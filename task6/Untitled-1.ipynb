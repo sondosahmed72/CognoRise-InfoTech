{
 "cells": [
  {
   "cell_type": "code",
   "execution_count": 9,
   "metadata": {},
   "outputs": [
    {
     "name": "stdout",
     "output_type": "stream",
     "text": [
      "Requirement already satisfied: annoy in c:\\python312\\lib\\site-packages (1.17.3)\n",
      "Note: you may need to restart the kernel to use updated packages.\n"
     ]
    },
    {
     "name": "stderr",
     "output_type": "stream",
     "text": [
      "\n",
      "[notice] A new release of pip is available: 24.0 -> 24.1\n",
      "[notice] To update, run: python.exe -m pip install --upgrade pip\n"
     ]
    }
   ],
   "source": [
    "pip install annoy"
   ]
  },
  {
   "cell_type": "code",
   "execution_count": 10,
   "metadata": {},
   "outputs": [],
   "source": [
    "import pandas as pd\n",
    "import matplotlib.pyplot as plt\n",
    "from wordcloud import WordCloud\n",
    "from sklearn.feature_extraction.text import TfidfVectorizer\n",
    "from sklearn.metrics.pairwise import cosine_similarity\n",
    "from sklearn.metrics.pairwise import linear_kernel\n",
    "import pandas as pd\n",
    "from sklearn.feature_extraction.text import TfidfVectorizer\n",
    "from sklearn.decomposition import TruncatedSVD\n",
    "from annoy import AnnoyIndex"
   ]
  },
  {
   "cell_type": "code",
   "execution_count": 11,
   "metadata": {},
   "outputs": [
    {
     "data": {
      "text/html": [
       "<div>\n",
       "<style scoped>\n",
       "    .dataframe tbody tr th:only-of-type {\n",
       "        vertical-align: middle;\n",
       "    }\n",
       "\n",
       "    .dataframe tbody tr th {\n",
       "        vertical-align: top;\n",
       "    }\n",
       "\n",
       "    .dataframe thead th {\n",
       "        text-align: right;\n",
       "    }\n",
       "</style>\n",
       "<table border=\"1\" class=\"dataframe\">\n",
       "  <thead>\n",
       "    <tr style=\"text-align: right;\">\n",
       "      <th></th>\n",
       "      <th>review</th>\n",
       "      <th>sentiment</th>\n",
       "    </tr>\n",
       "  </thead>\n",
       "  <tbody>\n",
       "    <tr>\n",
       "      <th>0</th>\n",
       "      <td>One of the other reviewers has mentioned that ...</td>\n",
       "      <td>positive</td>\n",
       "    </tr>\n",
       "    <tr>\n",
       "      <th>1</th>\n",
       "      <td>A wonderful little production. &lt;br /&gt;&lt;br /&gt;The...</td>\n",
       "      <td>positive</td>\n",
       "    </tr>\n",
       "    <tr>\n",
       "      <th>2</th>\n",
       "      <td>I thought this was a wonderful way to spend ti...</td>\n",
       "      <td>positive</td>\n",
       "    </tr>\n",
       "    <tr>\n",
       "      <th>3</th>\n",
       "      <td>Basically there's a family where a little boy ...</td>\n",
       "      <td>negative</td>\n",
       "    </tr>\n",
       "    <tr>\n",
       "      <th>4</th>\n",
       "      <td>Petter Mattei's \"Love in the Time of Money\" is...</td>\n",
       "      <td>positive</td>\n",
       "    </tr>\n",
       "  </tbody>\n",
       "</table>\n",
       "</div>"
      ],
      "text/plain": [
       "                                              review sentiment\n",
       "0  One of the other reviewers has mentioned that ...  positive\n",
       "1  A wonderful little production. <br /><br />The...  positive\n",
       "2  I thought this was a wonderful way to spend ti...  positive\n",
       "3  Basically there's a family where a little boy ...  negative\n",
       "4  Petter Mattei's \"Love in the Time of Money\" is...  positive"
      ]
     },
     "execution_count": 11,
     "metadata": {},
     "output_type": "execute_result"
    }
   ],
   "source": [
    "\n",
    "df = pd.read_csv(\"IMDB Dataset.csv\")\n",
    "\n",
    "\n",
    "df.head()\n"
   ]
  },
  {
   "cell_type": "code",
   "execution_count": 12,
   "metadata": {},
   "outputs": [
    {
     "data": {
      "text/plain": [
       "(50000, 101583)"
      ]
     },
     "execution_count": 12,
     "metadata": {},
     "output_type": "execute_result"
    }
   ],
   "source": [
    "tfidf = TfidfVectorizer(stop_words='english')\n",
    "\n",
    "\n",
    "tfidf_matrix = tfidf.fit_transform(df['review'])\n",
    "\n",
    "\n",
    "tfidf_matrix.shape"
   ]
  },
  {
   "cell_type": "code",
   "execution_count": 13,
   "metadata": {},
   "outputs": [
    {
     "data": {
      "text/plain": [
       "(50000, 100)"
      ]
     },
     "execution_count": 13,
     "metadata": {},
     "output_type": "execute_result"
    }
   ],
   "source": [
    "svd = TruncatedSVD(n_components=100)  # Reduce dimensions\n",
    "reduced_matrix = svd.fit_transform(tfidf_matrix)\n",
    "reduced_matrix.shape"
   ]
  },
  {
   "cell_type": "code",
   "execution_count": 14,
   "metadata": {},
   "outputs": [
    {
     "data": {
      "text/plain": [
       "True"
      ]
     },
     "execution_count": 14,
     "metadata": {},
     "output_type": "execute_result"
    }
   ],
   "source": [
    "# Indexing with Annoy\n",
    "# Create an Annoy index with the same dimensionality as the reduced matrix\n",
    "annoy_index = AnnoyIndex(reduced_matrix.shape[1], 'angular')\n",
    "\n",
    "\n",
    "for i in range(reduced_matrix.shape[0]):\n",
    "    annoy_index.add_item(i, reduced_matrix[i])\n",
    "\n",
    "# Build the index with a specified number of trees (more trees give more accuracy but slower)\n",
    "annoy_index.build(10)  \n",
    "\n",
    "\n"
   ]
  },
  {
   "cell_type": "code",
   "execution_count": 15,
   "metadata": {},
   "outputs": [
    {
     "data": {
      "text/html": [
       "<div>\n",
       "<style scoped>\n",
       "    .dataframe tbody tr th:only-of-type {\n",
       "        vertical-align: middle;\n",
       "    }\n",
       "\n",
       "    .dataframe tbody tr th {\n",
       "        vertical-align: top;\n",
       "    }\n",
       "\n",
       "    .dataframe thead th {\n",
       "        text-align: right;\n",
       "    }\n",
       "</style>\n",
       "<table border=\"1\" class=\"dataframe\">\n",
       "  <thead>\n",
       "    <tr style=\"text-align: right;\">\n",
       "      <th></th>\n",
       "      <th>review</th>\n",
       "      <th>sentiment</th>\n",
       "    </tr>\n",
       "  </thead>\n",
       "  <tbody>\n",
       "    <tr>\n",
       "      <th>24613</th>\n",
       "      <td>Great job! Was very exciting and had great stu...</td>\n",
       "      <td>positive</td>\n",
       "    </tr>\n",
       "    <tr>\n",
       "      <th>42797</th>\n",
       "      <td>Great movie, great actors, great soundtrack! I...</td>\n",
       "      <td>positive</td>\n",
       "    </tr>\n",
       "    <tr>\n",
       "      <th>35480</th>\n",
       "      <td>This one was a surprise and better than most f...</td>\n",
       "      <td>positive</td>\n",
       "    </tr>\n",
       "    <tr>\n",
       "      <th>41338</th>\n",
       "      <td>This show is without a doubt one of the greate...</td>\n",
       "      <td>positive</td>\n",
       "    </tr>\n",
       "    <tr>\n",
       "      <th>41225</th>\n",
       "      <td>This movie has an all star cast, John Candy, R...</td>\n",
       "      <td>positive</td>\n",
       "    </tr>\n",
       "  </tbody>\n",
       "</table>\n",
       "</div>"
      ],
      "text/plain": [
       "                                                  review sentiment\n",
       "24613  Great job! Was very exciting and had great stu...  positive\n",
       "42797  Great movie, great actors, great soundtrack! I...  positive\n",
       "35480  This one was a surprise and better than most f...  positive\n",
       "41338  This show is without a doubt one of the greate...  positive\n",
       "41225  This movie has an all star cast, John Candy, R...  positive"
      ]
     },
     "execution_count": 15,
     "metadata": {},
     "output_type": "execute_result"
    }
   ],
   "source": [
    "def recommend_movies_with_annoy(review_text, df, tfidf, svd, annoy_index, num_recommendations=5):\n",
    " \n",
    "    review_tfidf = tfidf.transform([review_text])\n",
    "    review_reduced = svd.transform(review_tfidf)\n",
    "    \n",
    "    # Get the nearest neighbors\n",
    "    similar_reviews_indices = annoy_index.get_nns_by_vector(review_reduced[0], num_recommendations)\n",
    "    \n",
    "    # Retrieve the most similar reviews and their corresponding sentiments\n",
    "    similar_reviews = df.iloc[similar_reviews_indices]\n",
    "    \n",
    "    return similar_reviews\n",
    "\n",
    "# Recommend movies based on a sample review\n",
    "sample_review = \"I loved the acting and the storyline was great!\"\n",
    "recommended_reviews = recommend_movies_with_annoy(sample_review, df, tfidf, svd, annoy_index)\n",
    "\n",
    "recommended_reviews\n"
   ]
  },
  {
   "cell_type": "code",
   "execution_count": 16,
   "metadata": {},
   "outputs": [
    {
     "name": "stdout",
     "output_type": "stream",
     "text": [
      "Precision: 1.00\n",
      "Recall: 1.00\n"
     ]
    }
   ],
   "source": [
    "from sklearn.metrics import precision_score, recall_score\n",
    "\n",
    "def evaluate_recommendations(input_review, df, tfidf, svd, annoy_index, num_recommendations=5):\n",
    "    # Get recommendations\n",
    "    recommended_reviews = recommend_movies_with_annoy(input_review, df, tfidf, svd, annoy_index, num_recommendations)\n",
    "    \n",
    "    # Determine the sentiment of the input review\n",
    "    input_sentiment = determine_sentiment(input_review, tfidf, svd, df)\n",
    "    \n",
    "    # Calculate precision and recall\n",
    "    y_true = [input_sentiment] * num_recommendations  # All true labels are the sentiment of the input review\n",
    "    y_pred = recommended_reviews['sentiment'].tolist()  # Predicted labels are the sentiments of the recommended reviews\n",
    "    \n",
    "    precision = precision_score(y_true, y_pred, pos_label='positive')\n",
    "    recall = recall_score(y_true, y_pred, pos_label='positive')\n",
    "    \n",
    "    return precision, recall\n",
    "\n",
    "def determine_sentiment(review_text, tfidf, svd, df):\n",
    "    review_tfidf = tfidf.transform([review_text])\n",
    "    review_reduced = svd.transform(review_tfidf)\n",
    "    similarity_scores = cosine_similarity(review_reduced, svd.transform(tfidf.transform(df['review']))).flatten()\n",
    "    closest_index = similarity_scores.argmax()\n",
    "    return df.iloc[closest_index]['sentiment']\n",
    "\n",
    "# Evaluate recommendations based on a sample review\n",
    "sample_review = \"I loved the acting and the storyline was great!\"\n",
    "precision, recall = evaluate_recommendations(sample_review, df, tfidf, svd, annoy_index)\n",
    "\n",
    "print(f\"Precision: {precision:.2f}\")\n",
    "print(f\"Recall: {recall:.2f}\")\n"
   ]
  }
 ],
 "metadata": {
  "kernelspec": {
   "display_name": "Python 3",
   "language": "python",
   "name": "python3"
  },
  "language_info": {
   "codemirror_mode": {
    "name": "ipython",
    "version": 3
   },
   "file_extension": ".py",
   "mimetype": "text/x-python",
   "name": "python",
   "nbconvert_exporter": "python",
   "pygments_lexer": "ipython3",
   "version": "3.12.3"
  }
 },
 "nbformat": 4,
 "nbformat_minor": 2
}
